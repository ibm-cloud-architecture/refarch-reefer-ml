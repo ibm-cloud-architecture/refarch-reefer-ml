{
 "cells": [
  {
   "cell_type": "code",
   "execution_count": 1,
   "metadata": {},
   "outputs": [],
   "source": [
    "import pandas as pd\n",
    "from confluent_kafka import Consumer "
   ]
  },
  {
   "cell_type": "code",
   "execution_count": 3,
   "metadata": {},
   "outputs": [],
   "source": [
    "options = {\n",
    "                'bootstrap.servers':  \"broker-3-qnprtqnp7hnkssdz.kafka.svc01.us-east.eventstreams.cloud.ibm.com:9093,broker-1-qnprtqnp7hnkssdz.kafka.svc01.us-east.eventstreams.cloud.ibm.com:9093,broker-0-qnprtqnp7hnkssdz.kafka.svc01.us-east.eventstreams.cloud.ibm.com:9093,broker-5-qnprtqnp7hnkssdz.kafka.svc01.us-east.eventstreams.cloud.ibm.com:9093,broker-2-qnprtqnp7hnkssdz.kafka.svc01.us-east.eventstreams.cloud.ibm.com:9093,broker-4-qnprtqnp7hnkssdz.kafka.svc01.us-east.eventstreams.cloud.ibm.com:9093\",\n",
    "                'group.id': \"Notebook-client-1\",\n",
    "                'auto.offset.reset': 'earliest',\n",
    "                'enable.auto.commit': False,\n",
    "                'security.protocol' : 'SASL_SSL',\n",
    "                'sasl.mechanisms': 'PLAIN',\n",
    "                'sasl.username': 'token',\n",
    "                'sasl.password': ''\n",
    "        }\n",
    "consumer = Consumer(options)\n",
    "consumer.subscribe(['reefer-telemetry'])"
   ]
  },
  {
   "cell_type": "code",
   "execution_count": 5,
   "metadata": {},
   "outputs": [],
   "source": [
    "# Consumer messages\n",
    "msg=consumer.poll(timeout=5)"
   ]
  },
  {
   "cell_type": "code",
   "execution_count": 17,
   "metadata": {},
   "outputs": [
    {
     "name": "stdout",
     "output_type": "stream",
     "text": [
      "{\"containerID\": \"C02\", \"timestamp\": \"2019-11-08T00:54:59.399147000\", \"type\": \"ReeferTelemetries\", \"payload\": \"('C02', '2019-11-08T00:54:59.399147000', 'P02', 6.56886895, 6, 20.98333499, 2.18851672, 2.77538641, 2, 5, 20.8533169, 77.07647769, 60.90885662, 5.04804424, True, True, True, 0)\"}\n",
      "The telemetry is a serialized tuple\n",
      "('C02', '2019-11-08T00:54:59.399147000', 'P02', 6.56886895, 6, 20.98333499, 2.18851672, 2.77538641, 2, 5, 20.8533169, 77.07647769, 60.90885662, 5.04804424, True, True, True, 0)\n"
     ]
    }
   ],
   "source": [
    "import json\n",
    "msgStr = msg.value().decode('utf-8')\n",
    "print(msgStr)\n",
    "anEvent = json.loads(msgStr)\n",
    "from ast import literal_eval\n",
    "payloadStr = anEvent['payload']\n",
    "dataToProcess = literal_eval(payloadStr)\n",
    "print(\"The telemetry is a serialized tuple\")\n",
    "print(dataToProcess)"
   ]
  },
  {
   "cell_type": "code",
   "execution_count": 19,
   "metadata": {},
   "outputs": [
    {
     "name": "stdout",
     "output_type": "stream",
     "text": [
      "  container_id               measurement_time product_id  temperature  \\\n",
      "0          C02  2019-11-08T00:54:59.399147000        P02     6.568869   \n",
      "\n",
      "   target_temperature  ambiant_temperature  kilowatts  time_door_open  \\\n",
      "0                   6            20.983335   2.188517        2.775386   \n",
      "\n",
      "   content_type  defrost_cycle  oxygen_level  nitrogen_level  humidity_level  \\\n",
      "0             2              5     20.853317       77.076478       60.908857   \n",
      "\n",
      "   carbon_dioxide_level  vent_1  vent_2  vent_3  maintenance_required  \n",
      "0              5.048044    True    True    True                     0  \n"
     ]
    }
   ],
   "source": [
    "records = []\n",
    "records.append(dataToProcess)\n",
    "df = pd.DataFrame(records,columns= [ 'container_id', 'measurement_time','product_id','temperature','target_temperature','ambiant_temperature','kilowatts','time_door_open','content_type','defrost_cycle','oxygen_level','nitrogen_level','humidity_level','carbon_dioxide_level','vent_1','vent_2','vent_3','maintenance_required'])\n",
    "print(df)"
   ]
  },
  {
   "cell_type": "code",
   "execution_count": null,
   "metadata": {},
   "outputs": [],
   "source": []
  }
 ],
 "metadata": {
  "kernelspec": {
   "display_name": "Python 3",
   "language": "python",
   "name": "python3"
  },
  "language_info": {
   "codemirror_mode": {
    "name": "ipython",
    "version": 3
   },
   "file_extension": ".py",
   "mimetype": "text/x-python",
   "name": "python",
   "nbconvert_exporter": "python",
   "pygments_lexer": "ipython3",
   "version": "3.7.3"
  }
 },
 "nbformat": 4,
 "nbformat_minor": 2
}
